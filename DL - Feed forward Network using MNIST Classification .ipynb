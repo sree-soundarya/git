{
 "cells": [
  {
   "cell_type": "markdown",
   "metadata": {},
   "source": [
    "# Deep Learning Assignment"
   ]
  },
  {
   "cell_type": "markdown",
   "metadata": {},
   "source": [
    "## Feed forward network using MNIST Classification"
   ]
  },
  {
   "cell_type": "markdown",
   "metadata": {},
   "source": [
    " "
   ]
  },
  {
   "cell_type": "code",
   "execution_count": 1,
   "metadata": {},
   "outputs": [],
   "source": [
    "import os\n",
    "from pathlib import Path\n",
    "import torch\n",
    "from torch.utils.data import TensorDataset ,DataLoader\n",
    "from torch import nn,optim\n",
    "import torch.nn.functional as F\n",
    "import numpy as np\n",
    "import pandas as pd\n",
    "from sklearn.model_selection import train_test_split\n",
    "PATH=Path(\"C:\\\\Users\\\\Sree Soundarya\\\\Desktop\\\\Deep Learning\")"
   ]
  },
  {
   "cell_type": "code",
   "execution_count": 2,
   "metadata": {},
   "outputs": [
    {
     "name": "stdout",
     "output_type": "stream",
     "text": [
      "len of trainSet 33600 , len of testSet 8400\n",
      "97935\n",
      "Epoch: 1/7..  Training Loss: -0.101..  Test Loss: -0.102..  Test Accuracy: 0.116\n",
      "Epoch: 2/7..  Training Loss: -0.103..  Test Loss: -0.105..  Test Accuracy: 0.156\n",
      "Epoch: 3/7..  Training Loss: -0.107..  Test Loss: -0.109..  Test Accuracy: 0.368\n",
      "Epoch: 4/7..  Training Loss: -0.113..  Test Loss: -0.118..  Test Accuracy: 0.402\n",
      "Epoch: 5/7..  Training Loss: -0.132..  Test Loss: -0.158..  Test Accuracy: 0.257\n",
      "Epoch: 6/7..  Training Loss: -0.191..  Test Loss: -0.234..  Test Accuracy: 0.414\n",
      "Epoch: 7/7..  Training Loss: -0.293..  Test Loss: -0.366..  Test Accuracy: 0.432\n",
      "Epoch: 1/10..  Training Loss: -0.405..  Test Loss: -0.459..  Test Accuracy: 0.498\n",
      "Epoch: 2/10..  Training Loss: -0.473..  Test Loss: -0.511..  Test Accuracy: 0.552\n",
      "Epoch: 3/10..  Training Loss: -0.510..  Test Loss: -0.534..  Test Accuracy: 0.560\n",
      "Epoch: 4/10..  Training Loss: -0.529..  Test Loss: -0.551..  Test Accuracy: 0.564\n",
      "Epoch: 5/10..  Training Loss: -0.557..  Test Loss: -0.599..  Test Accuracy: 0.646\n",
      "Epoch: 6/10..  Training Loss: -0.604..  Test Loss: -0.652..  Test Accuracy: 0.706\n",
      "Epoch: 7/10..  Training Loss: -0.645..  Test Loss: -0.683..  Test Accuracy: 0.720\n",
      "Epoch: 8/10..  Training Loss: -0.671..  Test Loss: -0.702..  Test Accuracy: 0.730\n",
      "Epoch: 9/10..  Training Loss: -0.690..  Test Loss: -0.713..  Test Accuracy: 0.736\n",
      "Epoch: 10/10..  Training Loss: -0.699..  Test Loss: -0.720..  Test Accuracy: 0.738\n"
     ]
    }
   ],
   "source": [
    "train=pd.read_csv(PATH/'train.csv')\n",
    "test=pd.read_csv(PATH/'test.csv')\n",
    "x=train.drop(\"label\",axis=1)\n",
    "y=np.array(train['label'])\n",
    "\n",
    "torch_X_train = torch.from_numpy(x.values).type(torch.FloatTensor)/255\n",
    "torch_y_train = torch.from_numpy(y).type(torch.LongTensor)\n",
    "myDataset = torch.utils.data.TensorDataset(torch_X_train,torch_y_train)\n",
    "valid_no  = int(0.2 * len(myDataset))\n",
    "trainSet,testSet = torch.utils.data.random_split(myDataset,(len(myDataset)-valid_no,valid_no))\n",
    "print(f\"len of trainSet {len(trainSet)} , len of testSet {len(testSet)}\")\n",
    "batch_size=50\n",
    "train_loader  = DataLoader(trainSet , batch_size=batch_size ,shuffle=True) \n",
    "test_loader  = DataLoader(testSet , batch_size=batch_size ,shuffle=True)\n",
    "\n",
    "class Network(nn.Module):\n",
    "    def __init__(self):\n",
    "        super().__init__()\n",
    "        self.fc1 = nn.Linear(784, 100)\n",
    "        self.fc2 = nn.Linear(100, 175)\n",
    "        self.fc3 = nn.Linear(175, 10)\n",
    "        # Dropout module with 0.2 drop probability\n",
    "        self.dropout = nn.Dropout(p=0.2)\n",
    "\n",
    "    def forward(self, x):\n",
    "        x = x.view(x.shape[0], -1)\n",
    "        x = self.dropout(F.relu(self.fc1(x)))\n",
    "        x = self.dropout(F.relu(self.fc2(x)))\n",
    "        x = F.softmax(self.fc3(x), dim=1)\n",
    "        return x\n",
    "        \n",
    "model=Network()\n",
    "optimizer=optim.SGD(model.parameters(),lr=0.01)\n",
    "criterion=nn.NLLLoss()\n",
    "model_parameters = filter(lambda p: p.requires_grad, model.parameters())\n",
    "params = sum([np.prod(p.size()) for p in model_parameters])\n",
    "print(params)\n",
    "list=[7,10]\n",
    "for i in list:\n",
    "    epochs=i\n",
    "    train_losses,test_losses=[],[]\n",
    "    for e in range(epochs):\n",
    "        running_loss=0\n",
    "        for images,labels in train_loader:\n",
    "            optimizer.zero_grad()\n",
    "            ps=model(images)\n",
    "            loss=criterion(ps,labels)\n",
    "            loss.backward()\n",
    "            optimizer.step()\n",
    "            running_loss+=loss.item()\n",
    "\n",
    "        else:\n",
    "            test_loss=0\n",
    "            accuracy=0\n",
    "\n",
    "            with torch.no_grad():\n",
    "                model.eval()\n",
    "                for images,labels in test_loader:\n",
    "                    ps=model(images)\n",
    "                    test_loss+=criterion(ps,labels)\n",
    "                    ps=torch.exp(ps)\n",
    "                    top_p,top_class=ps.topk(1,dim=1)\n",
    "                    equals=top_class==labels.view(*top_class.shape)\n",
    "                    accuracy+=torch.mean(equals.type(torch.FloatTensor))\n",
    "            model.train()\n",
    "            train_losses.append(running_loss/len(train_loader))\n",
    "            test_losses.append(test_loss/len(test_loader))\n",
    "\n",
    "            print(\"Epoch: {}/{}.. \".format(e+1, epochs),\n",
    "                  \"Training Loss: {:.3f}.. \".format(running_loss/len(train_loader)),\n",
    "                  \"Test Loss: {:.3f}.. \".format(test_loss/len(test_loader)),\n",
    "                  \"Test Accuracy: {:.3f}\".format(accuracy/len(test_loader)))"
   ]
  }
 ],
 "metadata": {
  "kernelspec": {
   "display_name": "Python 3",
   "language": "python",
   "name": "python3"
  },
  "language_info": {
   "codemirror_mode": {
    "name": "ipython",
    "version": 3
   },
   "file_extension": ".py",
   "mimetype": "text/x-python",
   "name": "python",
   "nbconvert_exporter": "python",
   "pygments_lexer": "ipython3",
   "version": "3.7.3"
  }
 },
 "nbformat": 4,
 "nbformat_minor": 2
}
