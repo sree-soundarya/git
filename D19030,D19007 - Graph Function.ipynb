{
 "cells": [
  {
   "cell_type": "markdown",
   "metadata": {},
   "source": [
    "## Graph Function ##"
   ]
  },
  {
   "cell_type": "markdown",
   "metadata": {},
   "source": [
    "*This function is created with an aim to help a user to create a graph without actually writing the code.*"
   ]
  },
  {
   "cell_type": "code",
   "execution_count": 6,
   "metadata": {},
   "outputs": [],
   "source": [
    "def graph(data,column=None,directory=None): #Defining graph function\n",
    "    import numpy as np                      #Importing various packages required\n",
    "    import pandas as pd                     \n",
    "    import matplotlib.pyplot as plt\n",
    "    import math\n",
    "    import os\n",
    "    data=pd.read_csv(data)                  #Reading data from csv file using Pandas\n",
    "    if np.all(column==None):                #As column parameter is considered optional,checking for value if passed in the function\n",
    "        column=data[data.columns[:]]        #If no value is passed,consider all the columns of the data\n",
    "    else:\n",
    "        data=data[column]                   #If columns are mentioned as parameters,consider those columns only\n",
    "    if directory==None:                     # If directory is not provided by the user,select the current working directory\n",
    "        directory=os.getcwd()               \n",
    "    else:\n",
    "        os.chdir(directory)                 #If user provides the path of directory,change working directory to the given directory\n",
    "    data1=data.select_dtypes(include=['float64','int64'])        #Selecting numerical variables from the data\n",
    "    data2=data.select_dtypes(exclude=['float64','int64'])        #Selecting Categorical variables from the data\n",
    "    for i in range(0,len(data1.columns)):                        # Plotting Box plot and histogram for each numerical variable\n",
    "        data1.hist(column=data1.columns[i],grid=False)           # Histogram plot\n",
    "        plt.xlabel(data1.columns[i],fontsize=12)\n",
    "        plt.title(\"Histogram of \"+data1.columns[i],fontsize=16)\n",
    "        plt.savefig(data1.columns[i]+'_hist.png')                #Saving each plot in the form of .png file\n",
    "        data1.boxplot(column=data1.columns[i],notch=True,grid=False) #Box plot\n",
    "        plt.xlabel(data1.columns[i],fontsize=12)\n",
    "        plt.title(\"Box Plot of \"+data1.columns[i],fontsize=16)\n",
    "        plt.savefig(data1.columns[i]+'_box.png')                 #Saving each plot in the form of .png file\n",
    "    for i in range(0,len(data2.columns)):                       #Plotting Bar plot for each categorical variable\n",
    "        data2_grp=data2.groupby(data2.columns[i]).size()        #Finding the count of each unique observation present in the variable data \n",
    "        data2_grp.plot(kind='bar',title=data2.columns[i]+'Distribution')\n",
    "        plt.savefig(data2.columns[i]+'_bar.png')                #Saving each plot in the form of .png file"
   ]
  },
  {
   "cell_type": "markdown",
   "metadata": {},
   "source": [
    "**Improvisation**"
   ]
  },
  {
   "cell_type": "markdown",
   "metadata": {},
   "source": [
    "*Adding few more parameters so that the user can select which graph to plot, creating a new directory to save all the graphs, changing the format of column to a list, adding text box and finding correlation between numerical variables and plotting correlation plots w.r.t target variable.*"
   ]
  },
  {
   "cell_type": "code",
   "execution_count": 1,
   "metadata": {},
   "outputs": [],
   "source": [
    "def graph(data,column=None,directory=None,hist=None,box=None,target=None): #Defining graph function\n",
    "    import numpy as np                      #Importing various packages required\n",
    "    import pandas as pd                     \n",
    "    import matplotlib.pyplot as plt\n",
    "    import seaborn as sns\n",
    "    import math\n",
    "    import os\n",
    "    if os.path.isdir(directory+'\\\\Graphs')==True:\n",
    "        os.chdir(directory)\n",
    "    if '.csv' in data:\n",
    "        data=pd.read_csv(data)                  #Reading data from csv file using Pandas\n",
    "    elif '.json' in data:\n",
    "        data=pd.read_json(data)                 #Reading data from json file using Pandas\n",
    "    elif '.excel' in data:\n",
    "        data=pd.read_excel(data)                #Reading data from excel file using Pandas\n",
    "    else:\n",
    "        return('File format not supported')     # Error message if file format is not among csv,json or excel\n",
    "    if np.all(column==None):                #As column parameter is considered optional,checking for value if passed in the function\n",
    "        column=data[data.columns[:]]        #If no value is passed,consider all the columns of the data\n",
    "    else:\n",
    "        data=data.loc[:,column]                   #If columns are mentioned as parameters,consider those columns only\n",
    "    if directory==None:                     # If directory is not provided by the user,select the current working directory\n",
    "        directory=os.getcwd() \n",
    "        os.mkdir('Graphs')                         # Creating a new directory to store all the graphs in it.\n",
    "        os.chdir(directory+'\\\\Graphs')\n",
    "    elif os.path.isdir(directory+'\\\\Graphs')==True:\n",
    "        os.chdir(directory+'\\\\Graphs')\n",
    "    else:\n",
    "        os.mkdir('Graphs')\n",
    "        os.chdir(directory+'\\\\Graphs')                 #If user provides the path of directory,change working directory to the given directory\n",
    "    data1=data.select_dtypes(include=['float64','int64'])        #Selecting numerical variables from the data\n",
    "    data2=data.select_dtypes(exclude=['float64','int64'])        #Selecting Categorical variables from the data\n",
    "    for i in range(0,len(data1.columns)):  # Plotting Box plot and histogram for each numerical variable\n",
    "        text=data1.loc[:,data1.columns[i]].describe()\n",
    "        if hist==None or hist=='y' or hist=='yes':\n",
    "            data1.hist(column=data1.columns[i],grid=False,figsize=(6,6),color='coral')           # Histogram plot\n",
    "            plt.text(10,10,str(text),horizontalalignment='left',fontsize=10,verticalalignment='top')\n",
    "            plt.xlabel(data1.columns[i],fontsize=12)\n",
    "            plt.title(\"Histogram of \"+data1.columns[i],fontsize=16)\n",
    "            plt.savefig(data1.columns[i]+'_hist.png')                #Saving each plot in the form of .png file\n",
    "        if box==None or box=='y' or box=='yes':\n",
    "            data1.boxplot(column=data1.columns[i],notch=True,grid=False) #Box plot\n",
    "            plt.xlabel(data1.columns[i],fontsize=12)\n",
    "            plt.title(\"Box Plot of \"+data1.columns[i],fontsize=16)\n",
    "            plt.savefig(data1.columns[i]+'_box.png')                 #Saving each plot in the form of .png file\n",
    "                \n",
    "    for i in range(0,len(data2.columns)):                       #Plotting Bar plot for each categorical variable\n",
    "        data2_grp=data2.groupby(data2.columns[i]).size()        #Finding the count of each unique observation present in the variable data \n",
    "        data2_grp.plot(kind='bar',title=data2.columns[i]+'Distribution')\n",
    "        plt.savefig(data2.columns[i]+'_bar.png')                #Saving each plot in the form of .png file\n",
    "        \n",
    "    if target != None and (target in data1.columns):\n",
    "        for i in range(0,len(data1.columns),5):\n",
    "            sns_plot=sns.pairplot(data1,y_vars=[target],x_vars=data1.columns[i:i+len(data1.columns)])  #Plotting correlation plots with respect to target variable\n",
    "            sns_plot.savefig('Correlation plots.png')   "
   ]
  },
  {
   "cell_type": "code",
   "execution_count": 2,
   "metadata": {},
   "outputs": [],
   "source": [
    "graph('cars.csv',directory=\"C:\\\\Users\\\\Sree Soundarya\\\\Desktop\\\\machine learning\",target='MPG')"
   ]
  }
 ],
 "metadata": {
  "kernelspec": {
   "display_name": "Python 3",
   "language": "python",
   "name": "python3"
  },
  "language_info": {
   "codemirror_mode": {
    "name": "ipython",
    "version": 3
   },
   "file_extension": ".py",
   "mimetype": "text/x-python",
   "name": "python",
   "nbconvert_exporter": "python",
   "pygments_lexer": "ipython3",
   "version": "3.7.3"
  }
 },
 "nbformat": 4,
 "nbformat_minor": 2
}
